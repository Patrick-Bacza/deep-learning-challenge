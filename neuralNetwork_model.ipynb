{
  "cells": [
    {
      "cell_type": "markdown",
      "metadata": {
        "id": "Gswu2PkyTTvK"
      },
      "source": [
        "## Preprocessing"
      ]
    },
    {
      "cell_type": "code",
      "execution_count": 95,
      "metadata": {
        "colab": {
          "base_uri": "https://localhost:8080/",
          "height": 206
        },
        "id": "pU9SLqaFTTve",
        "outputId": "a4f1f60d-49ec-4346-b1c5-76f786402197"
      },
      "outputs": [
        {
          "output_type": "execute_result",
          "data": {
            "text/plain": [
              "        EIN                                      NAME APPLICATION_TYPE  \\\n",
              "0  10520599              BLUE KNIGHTS MOTORCYCLE CLUB              T10   \n",
              "1  10531628    AMERICAN CHESAPEAKE CLUB CHARITABLE TR               T3   \n",
              "2  10547893        ST CLOUD PROFESSIONAL FIREFIGHTERS               T5   \n",
              "3  10553066            SOUTHSIDE ATHLETIC ASSOCIATION               T3   \n",
              "4  10556103  GENETIC RESEARCH INSTITUTE OF THE DESERT               T3   \n",
              "\n",
              "        AFFILIATION CLASSIFICATION      USE_CASE  ORGANIZATION  STATUS  \\\n",
              "0       Independent          C1000    ProductDev   Association       1   \n",
              "1       Independent          C2000  Preservation  Co-operative       1   \n",
              "2  CompanySponsored          C3000    ProductDev   Association       1   \n",
              "3  CompanySponsored          C2000  Preservation         Trust       1   \n",
              "4       Independent          C1000     Heathcare         Trust       1   \n",
              "\n",
              "      INCOME_AMT SPECIAL_CONSIDERATIONS  ASK_AMT  IS_SUCCESSFUL  \n",
              "0              0                      N     5000              1  \n",
              "1         1-9999                      N   108590              1  \n",
              "2              0                      N     5000              0  \n",
              "3    10000-24999                      N     6692              1  \n",
              "4  100000-499999                      N   142590              1  "
            ],
            "text/html": [
              "\n",
              "  <div id=\"df-20ce6a69-fef7-49ec-bed7-4430b800a40c\">\n",
              "    <div class=\"colab-df-container\">\n",
              "      <div>\n",
              "<style scoped>\n",
              "    .dataframe tbody tr th:only-of-type {\n",
              "        vertical-align: middle;\n",
              "    }\n",
              "\n",
              "    .dataframe tbody tr th {\n",
              "        vertical-align: top;\n",
              "    }\n",
              "\n",
              "    .dataframe thead th {\n",
              "        text-align: right;\n",
              "    }\n",
              "</style>\n",
              "<table border=\"1\" class=\"dataframe\">\n",
              "  <thead>\n",
              "    <tr style=\"text-align: right;\">\n",
              "      <th></th>\n",
              "      <th>EIN</th>\n",
              "      <th>NAME</th>\n",
              "      <th>APPLICATION_TYPE</th>\n",
              "      <th>AFFILIATION</th>\n",
              "      <th>CLASSIFICATION</th>\n",
              "      <th>USE_CASE</th>\n",
              "      <th>ORGANIZATION</th>\n",
              "      <th>STATUS</th>\n",
              "      <th>INCOME_AMT</th>\n",
              "      <th>SPECIAL_CONSIDERATIONS</th>\n",
              "      <th>ASK_AMT</th>\n",
              "      <th>IS_SUCCESSFUL</th>\n",
              "    </tr>\n",
              "  </thead>\n",
              "  <tbody>\n",
              "    <tr>\n",
              "      <th>0</th>\n",
              "      <td>10520599</td>\n",
              "      <td>BLUE KNIGHTS MOTORCYCLE CLUB</td>\n",
              "      <td>T10</td>\n",
              "      <td>Independent</td>\n",
              "      <td>C1000</td>\n",
              "      <td>ProductDev</td>\n",
              "      <td>Association</td>\n",
              "      <td>1</td>\n",
              "      <td>0</td>\n",
              "      <td>N</td>\n",
              "      <td>5000</td>\n",
              "      <td>1</td>\n",
              "    </tr>\n",
              "    <tr>\n",
              "      <th>1</th>\n",
              "      <td>10531628</td>\n",
              "      <td>AMERICAN CHESAPEAKE CLUB CHARITABLE TR</td>\n",
              "      <td>T3</td>\n",
              "      <td>Independent</td>\n",
              "      <td>C2000</td>\n",
              "      <td>Preservation</td>\n",
              "      <td>Co-operative</td>\n",
              "      <td>1</td>\n",
              "      <td>1-9999</td>\n",
              "      <td>N</td>\n",
              "      <td>108590</td>\n",
              "      <td>1</td>\n",
              "    </tr>\n",
              "    <tr>\n",
              "      <th>2</th>\n",
              "      <td>10547893</td>\n",
              "      <td>ST CLOUD PROFESSIONAL FIREFIGHTERS</td>\n",
              "      <td>T5</td>\n",
              "      <td>CompanySponsored</td>\n",
              "      <td>C3000</td>\n",
              "      <td>ProductDev</td>\n",
              "      <td>Association</td>\n",
              "      <td>1</td>\n",
              "      <td>0</td>\n",
              "      <td>N</td>\n",
              "      <td>5000</td>\n",
              "      <td>0</td>\n",
              "    </tr>\n",
              "    <tr>\n",
              "      <th>3</th>\n",
              "      <td>10553066</td>\n",
              "      <td>SOUTHSIDE ATHLETIC ASSOCIATION</td>\n",
              "      <td>T3</td>\n",
              "      <td>CompanySponsored</td>\n",
              "      <td>C2000</td>\n",
              "      <td>Preservation</td>\n",
              "      <td>Trust</td>\n",
              "      <td>1</td>\n",
              "      <td>10000-24999</td>\n",
              "      <td>N</td>\n",
              "      <td>6692</td>\n",
              "      <td>1</td>\n",
              "    </tr>\n",
              "    <tr>\n",
              "      <th>4</th>\n",
              "      <td>10556103</td>\n",
              "      <td>GENETIC RESEARCH INSTITUTE OF THE DESERT</td>\n",
              "      <td>T3</td>\n",
              "      <td>Independent</td>\n",
              "      <td>C1000</td>\n",
              "      <td>Heathcare</td>\n",
              "      <td>Trust</td>\n",
              "      <td>1</td>\n",
              "      <td>100000-499999</td>\n",
              "      <td>N</td>\n",
              "      <td>142590</td>\n",
              "      <td>1</td>\n",
              "    </tr>\n",
              "  </tbody>\n",
              "</table>\n",
              "</div>\n",
              "      <button class=\"colab-df-convert\" onclick=\"convertToInteractive('df-20ce6a69-fef7-49ec-bed7-4430b800a40c')\"\n",
              "              title=\"Convert this dataframe to an interactive table.\"\n",
              "              style=\"display:none;\">\n",
              "        \n",
              "  <svg xmlns=\"http://www.w3.org/2000/svg\" height=\"24px\"viewBox=\"0 0 24 24\"\n",
              "       width=\"24px\">\n",
              "    <path d=\"M0 0h24v24H0V0z\" fill=\"none\"/>\n",
              "    <path d=\"M18.56 5.44l.94 2.06.94-2.06 2.06-.94-2.06-.94-.94-2.06-.94 2.06-2.06.94zm-11 1L8.5 8.5l.94-2.06 2.06-.94-2.06-.94L8.5 2.5l-.94 2.06-2.06.94zm10 10l.94 2.06.94-2.06 2.06-.94-2.06-.94-.94-2.06-.94 2.06-2.06.94z\"/><path d=\"M17.41 7.96l-1.37-1.37c-.4-.4-.92-.59-1.43-.59-.52 0-1.04.2-1.43.59L10.3 9.45l-7.72 7.72c-.78.78-.78 2.05 0 2.83L4 21.41c.39.39.9.59 1.41.59.51 0 1.02-.2 1.41-.59l7.78-7.78 2.81-2.81c.8-.78.8-2.07 0-2.86zM5.41 20L4 18.59l7.72-7.72 1.47 1.35L5.41 20z\"/>\n",
              "  </svg>\n",
              "      </button>\n",
              "      \n",
              "  <style>\n",
              "    .colab-df-container {\n",
              "      display:flex;\n",
              "      flex-wrap:wrap;\n",
              "      gap: 12px;\n",
              "    }\n",
              "\n",
              "    .colab-df-convert {\n",
              "      background-color: #E8F0FE;\n",
              "      border: none;\n",
              "      border-radius: 50%;\n",
              "      cursor: pointer;\n",
              "      display: none;\n",
              "      fill: #1967D2;\n",
              "      height: 32px;\n",
              "      padding: 0 0 0 0;\n",
              "      width: 32px;\n",
              "    }\n",
              "\n",
              "    .colab-df-convert:hover {\n",
              "      background-color: #E2EBFA;\n",
              "      box-shadow: 0px 1px 2px rgba(60, 64, 67, 0.3), 0px 1px 3px 1px rgba(60, 64, 67, 0.15);\n",
              "      fill: #174EA6;\n",
              "    }\n",
              "\n",
              "    [theme=dark] .colab-df-convert {\n",
              "      background-color: #3B4455;\n",
              "      fill: #D2E3FC;\n",
              "    }\n",
              "\n",
              "    [theme=dark] .colab-df-convert:hover {\n",
              "      background-color: #434B5C;\n",
              "      box-shadow: 0px 1px 3px 1px rgba(0, 0, 0, 0.15);\n",
              "      filter: drop-shadow(0px 1px 2px rgba(0, 0, 0, 0.3));\n",
              "      fill: #FFFFFF;\n",
              "    }\n",
              "  </style>\n",
              "\n",
              "      <script>\n",
              "        const buttonEl =\n",
              "          document.querySelector('#df-20ce6a69-fef7-49ec-bed7-4430b800a40c button.colab-df-convert');\n",
              "        buttonEl.style.display =\n",
              "          google.colab.kernel.accessAllowed ? 'block' : 'none';\n",
              "\n",
              "        async function convertToInteractive(key) {\n",
              "          const element = document.querySelector('#df-20ce6a69-fef7-49ec-bed7-4430b800a40c');\n",
              "          const dataTable =\n",
              "            await google.colab.kernel.invokeFunction('convertToInteractive',\n",
              "                                                     [key], {});\n",
              "          if (!dataTable) return;\n",
              "\n",
              "          const docLinkHtml = 'Like what you see? Visit the ' +\n",
              "            '<a target=\"_blank\" href=https://colab.research.google.com/notebooks/data_table.ipynb>data table notebook</a>'\n",
              "            + ' to learn more about interactive tables.';\n",
              "          element.innerHTML = '';\n",
              "          dataTable['output_type'] = 'display_data';\n",
              "          await google.colab.output.renderOutput(dataTable, element);\n",
              "          const docLink = document.createElement('div');\n",
              "          docLink.innerHTML = docLinkHtml;\n",
              "          element.appendChild(docLink);\n",
              "        }\n",
              "      </script>\n",
              "    </div>\n",
              "  </div>\n",
              "  "
            ]
          },
          "metadata": {},
          "execution_count": 95
        }
      ],
      "source": [
        "# Import our dependencies\n",
        "from sklearn.model_selection import train_test_split\n",
        "from sklearn.preprocessing import StandardScaler\n",
        "import pandas as pd\n",
        "import tensorflow as tf\n",
        "\n",
        "#  Import and read the charity_data.csv.\n",
        "import pandas as pd \n",
        "application_df = pd.read_csv(\"https://static.bc-edx.com/data/dl-1-2/m21/lms/starter/charity_data.csv\")\n",
        "application_df.head()"
      ]
    },
    {
      "cell_type": "code",
      "source": [
        "application_df.info()"
      ],
      "metadata": {
        "colab": {
          "base_uri": "https://localhost:8080/"
        },
        "id": "3vGVyZ23cz0f",
        "outputId": "04610dee-32a6-4c68-b8d3-8e1fa7bbec3e"
      },
      "execution_count": 96,
      "outputs": [
        {
          "output_type": "stream",
          "name": "stdout",
          "text": [
            "<class 'pandas.core.frame.DataFrame'>\n",
            "RangeIndex: 34299 entries, 0 to 34298\n",
            "Data columns (total 12 columns):\n",
            " #   Column                  Non-Null Count  Dtype \n",
            "---  ------                  --------------  ----- \n",
            " 0   EIN                     34299 non-null  int64 \n",
            " 1   NAME                    34299 non-null  object\n",
            " 2   APPLICATION_TYPE        34299 non-null  object\n",
            " 3   AFFILIATION             34299 non-null  object\n",
            " 4   CLASSIFICATION          34299 non-null  object\n",
            " 5   USE_CASE                34299 non-null  object\n",
            " 6   ORGANIZATION            34299 non-null  object\n",
            " 7   STATUS                  34299 non-null  int64 \n",
            " 8   INCOME_AMT              34299 non-null  object\n",
            " 9   SPECIAL_CONSIDERATIONS  34299 non-null  object\n",
            " 10  ASK_AMT                 34299 non-null  int64 \n",
            " 11  IS_SUCCESSFUL           34299 non-null  int64 \n",
            "dtypes: int64(4), object(8)\n",
            "memory usage: 3.1+ MB\n"
          ]
        }
      ]
    },
    {
      "cell_type": "code",
      "execution_count": 97,
      "metadata": {
        "id": "QzRb8aXETTvj"
      },
      "outputs": [],
      "source": [
        "# Drop the non-beneficial ID columns, 'EIN' and 'NAME'.\n",
        "\n",
        "application_df.drop([\"EIN\" , \"NAME\"] , axis =1 , inplace= True)\n"
      ]
    },
    {
      "cell_type": "code",
      "source": [
        "application_df = application_df[application_df['STATUS'] == 1]"
      ],
      "metadata": {
        "id": "rFhLZKOeYIRn"
      },
      "execution_count": 98,
      "outputs": []
    },
    {
      "cell_type": "code",
      "execution_count": 73,
      "metadata": {
        "colab": {
          "base_uri": "https://localhost:8080/"
        },
        "id": "DnQvfF_jTTvk",
        "outputId": "5de69367-3ef5-4652-d761-f85b0c0fadd0"
      },
      "outputs": [
        {
          "output_type": "execute_result",
          "data": {
            "text/plain": [
              "APPLICATION_TYPE             9\n",
              "AFFILIATION                  6\n",
              "CLASSIFICATION               6\n",
              "USE_CASE                     5\n",
              "ORGANIZATION                 4\n",
              "STATUS                       1\n",
              "INCOME_AMT                   9\n",
              "SPECIAL_CONSIDERATIONS       2\n",
              "ASK_AMT                   8747\n",
              "IS_SUCCESSFUL                2\n",
              "dtype: int64"
            ]
          },
          "metadata": {},
          "execution_count": 73
        }
      ],
      "source": [
        "# Determine the number of unique values in each column.\n",
        "application_df.nunique()"
      ]
    },
    {
      "cell_type": "code",
      "source": [
        "application_df = application_df[application_df['ASK_AMT'] == 5000]"
      ],
      "metadata": {
        "id": "FP92yFclf_g_"
      },
      "execution_count": 99,
      "outputs": []
    },
    {
      "cell_type": "code",
      "source": [
        "application_df['ASK_AMT'].value_counts()"
      ],
      "metadata": {
        "colab": {
          "base_uri": "https://localhost:8080/"
        },
        "id": "iEm0otmsgHkL",
        "outputId": "98296deb-b6aa-448c-b86f-b200a53a6856"
      },
      "execution_count": 101,
      "outputs": [
        {
          "output_type": "execute_result",
          "data": {
            "text/plain": [
              "5000    25394\n",
              "Name: ASK_AMT, dtype: int64"
            ]
          },
          "metadata": {},
          "execution_count": 101
        }
      ]
    },
    {
      "cell_type": "code",
      "execution_count": 102,
      "metadata": {
        "colab": {
          "base_uri": "https://localhost:8080/"
        },
        "id": "hyW9h7_YTTvl",
        "outputId": "f54fb225-38ca-407e-c97a-b96d767baba8"
      },
      "outputs": [
        {
          "output_type": "execute_result",
          "data": {
            "text/plain": [
              "T3     19497\n",
              "T4      1309\n",
              "T19      994\n",
              "T5       876\n",
              "T6       847\n",
              "T8       660\n",
              "T7       616\n",
              "T10      507\n",
              "T13       54\n",
              "T9        15\n",
              "T12       13\n",
              "T2         6\n",
              "Name: APPLICATION_TYPE, dtype: int64"
            ]
          },
          "metadata": {},
          "execution_count": 102
        }
      ],
      "source": [
        "# Look at APPLICATION_TYPE value counts for binning\n",
        "application_df['APPLICATION_TYPE'].value_counts()"
      ]
    },
    {
      "cell_type": "code",
      "execution_count": 103,
      "metadata": {
        "colab": {
          "base_uri": "https://localhost:8080/"
        },
        "id": "NaJ-RgB8TTvm",
        "outputId": "48637886-bbce-498c-ae0f-ec809ae4ec90"
      },
      "outputs": [
        {
          "output_type": "execute_result",
          "data": {
            "text/plain": [
              "T3       19497\n",
              "Other     1871\n",
              "T4        1309\n",
              "T19        994\n",
              "T5         876\n",
              "T6         847\n",
              "Name: APPLICATION_TYPE, dtype: int64"
            ]
          },
          "metadata": {},
          "execution_count": 103
        }
      ],
      "source": [
        "# Choose a cutoff value and create a list of application types to be replaced\n",
        "# use the variable name `application_types_to_replace`\n",
        "application_types_to_replace = ['T9' , 'T13' , 'T12' , 'T2' , 'T25' , 'T14' , 'T29' , 'T15' , 'T17' , 'T8' , 'T7' , 'T10']\n",
        "\n",
        "# Replace in dataframe\n",
        "for app in application_types_to_replace:\n",
        "    application_df['APPLICATION_TYPE'] = application_df['APPLICATION_TYPE'].replace(app,\"Other\")\n",
        "\n",
        "# Check to make sure binning was successful\n",
        "application_df['APPLICATION_TYPE'].value_counts()"
      ]
    },
    {
      "cell_type": "code",
      "execution_count": 104,
      "metadata": {
        "colab": {
          "base_uri": "https://localhost:8080/"
        },
        "id": "UJOrL1ABTTvo",
        "outputId": "6d7da1e5-78e3-474f-f548-d75fdd997544"
      },
      "outputs": [
        {
          "output_type": "execute_result",
          "data": {
            "text/plain": [
              "C1000    12198\n",
              "C2000     4581\n",
              "C1200     3909\n",
              "C2100     1577\n",
              "C3000     1505\n",
              "         ...  \n",
              "C2380        1\n",
              "C1732        1\n",
              "C1728        1\n",
              "C4120        1\n",
              "C2150        1\n",
              "Name: CLASSIFICATION, Length: 64, dtype: int64"
            ]
          },
          "metadata": {},
          "execution_count": 104
        }
      ],
      "source": [
        "# Look at CLASSIFICATION value counts for binning\n",
        "application_df['CLASSIFICATION'].value_counts()"
      ]
    },
    {
      "cell_type": "code",
      "execution_count": 105,
      "metadata": {
        "colab": {
          "base_uri": "https://localhost:8080/"
        },
        "id": "YMhXwrFVTTvp",
        "outputId": "7cce61a3-2c1c-4612-b527-fac73bbaa911"
      },
      "outputs": [
        {
          "output_type": "execute_result",
          "data": {
            "text/plain": [
              "44       C7200\n",
              "48       C1700\n",
              "71       C7000\n",
              "73       C4000\n",
              "78       C7000\n",
              "         ...  \n",
              "33990    C1700\n",
              "33994    C7000\n",
              "34042    C7000\n",
              "34097    C7000\n",
              "34219    C7000\n",
              "Name: CLASSIFICATION, Length: 1624, dtype: object"
            ]
          },
          "metadata": {},
          "execution_count": 105
        }
      ],
      "source": [
        "# You may find it helpful to look at CLASSIFICATION value counts >1\n",
        "#application_df['CLASSIFICATION'].value_counts()\n",
        "cls_to_not_replace = [\"C1000\" , \"C2000\" , \"C1200\" , \"C3000\" , \"C2100\"]\n",
        "application_df[~application_df['CLASSIFICATION'].isin(cls_to_not_replace)]['CLASSIFICATION']\n"
      ]
    },
    {
      "cell_type": "code",
      "execution_count": 106,
      "metadata": {
        "colab": {
          "base_uri": "https://localhost:8080/"
        },
        "id": "psc2docBTTvq",
        "outputId": "117e69c7-8ed8-4095-905b-25fce504e3f0"
      },
      "outputs": [
        {
          "output_type": "execute_result",
          "data": {
            "text/plain": [
              "C1000    12198\n",
              "C2000     4581\n",
              "C1200     3909\n",
              "Other     1624\n",
              "C2100     1577\n",
              "C3000     1505\n",
              "Name: CLASSIFICATION, dtype: int64"
            ]
          },
          "metadata": {},
          "execution_count": 106
        }
      ],
      "source": [
        "# Choose a cutoff value and create a list of classifications to be replaced\n",
        "# use the variable name `classifications_to_replace`\n",
        "cls_to_not_replace = [\"C1000\" , \"C2000\" , \"C1200\" , \"C3000\" , \"C2100\"]\n",
        "\n",
        "classifications_to_replace = application_df[~application_df['CLASSIFICATION'].isin(cls_to_not_replace)]['CLASSIFICATION']\n",
        "\n",
        "# Replace in dataframe\n",
        "for cls in classifications_to_replace:\n",
        "    application_df['CLASSIFICATION'] = application_df['CLASSIFICATION'].replace(cls,\"Other\")\n",
        "    \n",
        "# Check to make sure binning was successful\n",
        "application_df['CLASSIFICATION'].value_counts()\n",
        "\n"
      ]
    },
    {
      "cell_type": "code",
      "execution_count": 107,
      "metadata": {
        "colab": {
          "base_uri": "https://localhost:8080/",
          "height": 317
        },
        "id": "Rcg2FUunTTvs",
        "outputId": "e2a263d6-db51-4533-ec6a-b1fdf6ca2f14"
      },
      "outputs": [
        {
          "output_type": "execute_result",
          "data": {
            "text/plain": [
              "    STATUS  APPLICATION_TYPE_Other  APPLICATION_TYPE_T19  APPLICATION_TYPE_T3  \\\n",
              "0        1                       1                     0                    0   \n",
              "2        1                       0                     0                    0   \n",
              "5        1                       0                     0                    1   \n",
              "9        1                       0                     0                    0   \n",
              "12       1                       0                     0                    1   \n",
              "\n",
              "    APPLICATION_TYPE_T4  APPLICATION_TYPE_T5  APPLICATION_TYPE_T6  \\\n",
              "0                     0                    0                    0   \n",
              "2                     0                    1                    0   \n",
              "5                     0                    0                    0   \n",
              "9                     0                    1                    0   \n",
              "12                    0                    0                    0   \n",
              "\n",
              "    AFFILIATION_CompanySponsored  AFFILIATION_Family/Parent  \\\n",
              "0                              0                          0   \n",
              "2                              1                          0   \n",
              "5                              0                          0   \n",
              "9                              1                          0   \n",
              "12                             1                          0   \n",
              "\n",
              "    AFFILIATION_Independent  ...  INCOME_AMT_0  INCOME_AMT_1-9999  \\\n",
              "0                         1  ...             1                  0   \n",
              "2                         0  ...             1                  0   \n",
              "5                         1  ...             1                  0   \n",
              "9                         0  ...             1                  0   \n",
              "12                        0  ...             1                  0   \n",
              "\n",
              "    INCOME_AMT_10000-24999  INCOME_AMT_100000-499999  INCOME_AMT_10M-50M  \\\n",
              "0                        0                         0                   0   \n",
              "2                        0                         0                   0   \n",
              "5                        0                         0                   0   \n",
              "9                        0                         0                   0   \n",
              "12                       0                         0                   0   \n",
              "\n",
              "    INCOME_AMT_1M-5M  INCOME_AMT_25000-99999  INCOME_AMT_50M+  \\\n",
              "0                  0                       0                0   \n",
              "2                  0                       0                0   \n",
              "5                  0                       0                0   \n",
              "9                  0                       0                0   \n",
              "12                 0                       0                0   \n",
              "\n",
              "    INCOME_AMT_5M-10M  ASK_AMT  \n",
              "0                   0     5000  \n",
              "2                   0     5000  \n",
              "5                   0     5000  \n",
              "9                   0     5000  \n",
              "12                  0     5000  \n",
              "\n",
              "[5 rows x 38 columns]"
            ],
            "text/html": [
              "\n",
              "  <div id=\"df-b1c6b506-7bda-4e06-b694-de3e181537d0\">\n",
              "    <div class=\"colab-df-container\">\n",
              "      <div>\n",
              "<style scoped>\n",
              "    .dataframe tbody tr th:only-of-type {\n",
              "        vertical-align: middle;\n",
              "    }\n",
              "\n",
              "    .dataframe tbody tr th {\n",
              "        vertical-align: top;\n",
              "    }\n",
              "\n",
              "    .dataframe thead th {\n",
              "        text-align: right;\n",
              "    }\n",
              "</style>\n",
              "<table border=\"1\" class=\"dataframe\">\n",
              "  <thead>\n",
              "    <tr style=\"text-align: right;\">\n",
              "      <th></th>\n",
              "      <th>STATUS</th>\n",
              "      <th>APPLICATION_TYPE_Other</th>\n",
              "      <th>APPLICATION_TYPE_T19</th>\n",
              "      <th>APPLICATION_TYPE_T3</th>\n",
              "      <th>APPLICATION_TYPE_T4</th>\n",
              "      <th>APPLICATION_TYPE_T5</th>\n",
              "      <th>APPLICATION_TYPE_T6</th>\n",
              "      <th>AFFILIATION_CompanySponsored</th>\n",
              "      <th>AFFILIATION_Family/Parent</th>\n",
              "      <th>AFFILIATION_Independent</th>\n",
              "      <th>...</th>\n",
              "      <th>INCOME_AMT_0</th>\n",
              "      <th>INCOME_AMT_1-9999</th>\n",
              "      <th>INCOME_AMT_10000-24999</th>\n",
              "      <th>INCOME_AMT_100000-499999</th>\n",
              "      <th>INCOME_AMT_10M-50M</th>\n",
              "      <th>INCOME_AMT_1M-5M</th>\n",
              "      <th>INCOME_AMT_25000-99999</th>\n",
              "      <th>INCOME_AMT_50M+</th>\n",
              "      <th>INCOME_AMT_5M-10M</th>\n",
              "      <th>ASK_AMT</th>\n",
              "    </tr>\n",
              "  </thead>\n",
              "  <tbody>\n",
              "    <tr>\n",
              "      <th>0</th>\n",
              "      <td>1</td>\n",
              "      <td>1</td>\n",
              "      <td>0</td>\n",
              "      <td>0</td>\n",
              "      <td>0</td>\n",
              "      <td>0</td>\n",
              "      <td>0</td>\n",
              "      <td>0</td>\n",
              "      <td>0</td>\n",
              "      <td>1</td>\n",
              "      <td>...</td>\n",
              "      <td>1</td>\n",
              "      <td>0</td>\n",
              "      <td>0</td>\n",
              "      <td>0</td>\n",
              "      <td>0</td>\n",
              "      <td>0</td>\n",
              "      <td>0</td>\n",
              "      <td>0</td>\n",
              "      <td>0</td>\n",
              "      <td>5000</td>\n",
              "    </tr>\n",
              "    <tr>\n",
              "      <th>2</th>\n",
              "      <td>1</td>\n",
              "      <td>0</td>\n",
              "      <td>0</td>\n",
              "      <td>0</td>\n",
              "      <td>0</td>\n",
              "      <td>1</td>\n",
              "      <td>0</td>\n",
              "      <td>1</td>\n",
              "      <td>0</td>\n",
              "      <td>0</td>\n",
              "      <td>...</td>\n",
              "      <td>1</td>\n",
              "      <td>0</td>\n",
              "      <td>0</td>\n",
              "      <td>0</td>\n",
              "      <td>0</td>\n",
              "      <td>0</td>\n",
              "      <td>0</td>\n",
              "      <td>0</td>\n",
              "      <td>0</td>\n",
              "      <td>5000</td>\n",
              "    </tr>\n",
              "    <tr>\n",
              "      <th>5</th>\n",
              "      <td>1</td>\n",
              "      <td>0</td>\n",
              "      <td>0</td>\n",
              "      <td>1</td>\n",
              "      <td>0</td>\n",
              "      <td>0</td>\n",
              "      <td>0</td>\n",
              "      <td>0</td>\n",
              "      <td>0</td>\n",
              "      <td>1</td>\n",
              "      <td>...</td>\n",
              "      <td>1</td>\n",
              "      <td>0</td>\n",
              "      <td>0</td>\n",
              "      <td>0</td>\n",
              "      <td>0</td>\n",
              "      <td>0</td>\n",
              "      <td>0</td>\n",
              "      <td>0</td>\n",
              "      <td>0</td>\n",
              "      <td>5000</td>\n",
              "    </tr>\n",
              "    <tr>\n",
              "      <th>9</th>\n",
              "      <td>1</td>\n",
              "      <td>0</td>\n",
              "      <td>0</td>\n",
              "      <td>0</td>\n",
              "      <td>0</td>\n",
              "      <td>1</td>\n",
              "      <td>0</td>\n",
              "      <td>1</td>\n",
              "      <td>0</td>\n",
              "      <td>0</td>\n",
              "      <td>...</td>\n",
              "      <td>1</td>\n",
              "      <td>0</td>\n",
              "      <td>0</td>\n",
              "      <td>0</td>\n",
              "      <td>0</td>\n",
              "      <td>0</td>\n",
              "      <td>0</td>\n",
              "      <td>0</td>\n",
              "      <td>0</td>\n",
              "      <td>5000</td>\n",
              "    </tr>\n",
              "    <tr>\n",
              "      <th>12</th>\n",
              "      <td>1</td>\n",
              "      <td>0</td>\n",
              "      <td>0</td>\n",
              "      <td>1</td>\n",
              "      <td>0</td>\n",
              "      <td>0</td>\n",
              "      <td>0</td>\n",
              "      <td>1</td>\n",
              "      <td>0</td>\n",
              "      <td>0</td>\n",
              "      <td>...</td>\n",
              "      <td>1</td>\n",
              "      <td>0</td>\n",
              "      <td>0</td>\n",
              "      <td>0</td>\n",
              "      <td>0</td>\n",
              "      <td>0</td>\n",
              "      <td>0</td>\n",
              "      <td>0</td>\n",
              "      <td>0</td>\n",
              "      <td>5000</td>\n",
              "    </tr>\n",
              "  </tbody>\n",
              "</table>\n",
              "<p>5 rows × 38 columns</p>\n",
              "</div>\n",
              "      <button class=\"colab-df-convert\" onclick=\"convertToInteractive('df-b1c6b506-7bda-4e06-b694-de3e181537d0')\"\n",
              "              title=\"Convert this dataframe to an interactive table.\"\n",
              "              style=\"display:none;\">\n",
              "        \n",
              "  <svg xmlns=\"http://www.w3.org/2000/svg\" height=\"24px\"viewBox=\"0 0 24 24\"\n",
              "       width=\"24px\">\n",
              "    <path d=\"M0 0h24v24H0V0z\" fill=\"none\"/>\n",
              "    <path d=\"M18.56 5.44l.94 2.06.94-2.06 2.06-.94-2.06-.94-.94-2.06-.94 2.06-2.06.94zm-11 1L8.5 8.5l.94-2.06 2.06-.94-2.06-.94L8.5 2.5l-.94 2.06-2.06.94zm10 10l.94 2.06.94-2.06 2.06-.94-2.06-.94-.94-2.06-.94 2.06-2.06.94z\"/><path d=\"M17.41 7.96l-1.37-1.37c-.4-.4-.92-.59-1.43-.59-.52 0-1.04.2-1.43.59L10.3 9.45l-7.72 7.72c-.78.78-.78 2.05 0 2.83L4 21.41c.39.39.9.59 1.41.59.51 0 1.02-.2 1.41-.59l7.78-7.78 2.81-2.81c.8-.78.8-2.07 0-2.86zM5.41 20L4 18.59l7.72-7.72 1.47 1.35L5.41 20z\"/>\n",
              "  </svg>\n",
              "      </button>\n",
              "      \n",
              "  <style>\n",
              "    .colab-df-container {\n",
              "      display:flex;\n",
              "      flex-wrap:wrap;\n",
              "      gap: 12px;\n",
              "    }\n",
              "\n",
              "    .colab-df-convert {\n",
              "      background-color: #E8F0FE;\n",
              "      border: none;\n",
              "      border-radius: 50%;\n",
              "      cursor: pointer;\n",
              "      display: none;\n",
              "      fill: #1967D2;\n",
              "      height: 32px;\n",
              "      padding: 0 0 0 0;\n",
              "      width: 32px;\n",
              "    }\n",
              "\n",
              "    .colab-df-convert:hover {\n",
              "      background-color: #E2EBFA;\n",
              "      box-shadow: 0px 1px 2px rgba(60, 64, 67, 0.3), 0px 1px 3px 1px rgba(60, 64, 67, 0.15);\n",
              "      fill: #174EA6;\n",
              "    }\n",
              "\n",
              "    [theme=dark] .colab-df-convert {\n",
              "      background-color: #3B4455;\n",
              "      fill: #D2E3FC;\n",
              "    }\n",
              "\n",
              "    [theme=dark] .colab-df-convert:hover {\n",
              "      background-color: #434B5C;\n",
              "      box-shadow: 0px 1px 3px 1px rgba(0, 0, 0, 0.15);\n",
              "      filter: drop-shadow(0px 1px 2px rgba(0, 0, 0, 0.3));\n",
              "      fill: #FFFFFF;\n",
              "    }\n",
              "  </style>\n",
              "\n",
              "      <script>\n",
              "        const buttonEl =\n",
              "          document.querySelector('#df-b1c6b506-7bda-4e06-b694-de3e181537d0 button.colab-df-convert');\n",
              "        buttonEl.style.display =\n",
              "          google.colab.kernel.accessAllowed ? 'block' : 'none';\n",
              "\n",
              "        async function convertToInteractive(key) {\n",
              "          const element = document.querySelector('#df-b1c6b506-7bda-4e06-b694-de3e181537d0');\n",
              "          const dataTable =\n",
              "            await google.colab.kernel.invokeFunction('convertToInteractive',\n",
              "                                                     [key], {});\n",
              "          if (!dataTable) return;\n",
              "\n",
              "          const docLinkHtml = 'Like what you see? Visit the ' +\n",
              "            '<a target=\"_blank\" href=https://colab.research.google.com/notebooks/data_table.ipynb>data table notebook</a>'\n",
              "            + ' to learn more about interactive tables.';\n",
              "          element.innerHTML = '';\n",
              "          dataTable['output_type'] = 'display_data';\n",
              "          await google.colab.output.renderOutput(dataTable, element);\n",
              "          const docLink = document.createElement('div');\n",
              "          docLink.innerHTML = docLinkHtml;\n",
              "          element.appendChild(docLink);\n",
              "        }\n",
              "      </script>\n",
              "    </div>\n",
              "  </div>\n",
              "  "
            ]
          },
          "metadata": {},
          "execution_count": 107
        }
      ],
      "source": [
        "# Convert categorical data to numeric with `pd.get_dummies`\n",
        "\n",
        "\n",
        "cat_dummies = pd.get_dummies(application_df[[\"APPLICATION_TYPE\",'AFFILIATION', 'USE_CASE', 'STATUS', 'CLASSIFICATION',\n",
        "       'ORGANIZATION' , 'INCOME_AMT']])\n",
        "\n",
        "ask_amount = application_df['ASK_AMT']\n",
        "\n",
        "processed_df = pd.concat([cat_dummies , ask_amount] , axis=1)\n",
        "\n",
        "processed_df.head()"
      ]
    },
    {
      "cell_type": "code",
      "execution_count": 108,
      "metadata": {
        "id": "YRmV467ATTvs"
      },
      "outputs": [],
      "source": [
        "# Split our preprocessed data into our features and target arrays\n",
        "y = application_df['IS_SUCCESSFUL']\n",
        "X = processed_df\n",
        "\n",
        "# Split the preprocessed data into a training and testing dataset\n",
        "X_train, X_test, y_train, y_test = train_test_split(X, y, random_state=42, stratify=y)"
      ]
    },
    {
      "cell_type": "code",
      "execution_count": 109,
      "metadata": {
        "id": "yKiDRYTpTTvt"
      },
      "outputs": [],
      "source": [
        "# Create a StandardScaler instances\n",
        "scaler = StandardScaler()\n",
        "\n",
        "# Fit the StandardScaler\n",
        "X_scaler = scaler.fit(X_train)\n",
        "\n",
        "# Scale the data\n",
        "X_train_scaled = X_scaler.transform(X_train)\n",
        "X_test_scaled = X_scaler.transform(X_test)"
      ]
    },
    {
      "cell_type": "markdown",
      "metadata": {
        "id": "7cKPVEWSTTvu"
      },
      "source": [
        "## Compile, Train and Evaluate the Model"
      ]
    },
    {
      "cell_type": "code",
      "execution_count": 120,
      "metadata": {
        "colab": {
          "base_uri": "https://localhost:8080/"
        },
        "id": "DR562bwaTTvv",
        "outputId": "e4c7deff-6a03-475d-ad6e-5f164537bd56"
      },
      "outputs": [
        {
          "output_type": "stream",
          "name": "stdout",
          "text": [
            "Model: \"sequential_20\"\n",
            "_________________________________________________________________\n",
            " Layer (type)                Output Shape              Param #   \n",
            "=================================================================\n",
            " dense_85 (Dense)            (None, 80)                3120      \n",
            "                                                                 \n",
            " dense_86 (Dense)            (None, 40)                3240      \n",
            "                                                                 \n",
            " dense_87 (Dense)            (None, 1)                 41        \n",
            "                                                                 \n",
            "=================================================================\n",
            "Total params: 6,401\n",
            "Trainable params: 6,401\n",
            "Non-trainable params: 0\n",
            "_________________________________________________________________\n"
          ]
        }
      ],
      "source": [
        "# Define the model - deep neural net, i.e., the number of input features and hidden nodes for each layer.\n",
        "#  YOUR CODE GOES HERE\n",
        "\n",
        "nn = tf.keras.models.Sequential()\n",
        "\n",
        "# First hidden layer\n",
        "nn.add(tf.keras.layers.Dense(units= 80, activation=\"tanh\", input_dim=38))\n",
        "\n",
        "# Second hidden layer\n",
        "nn.add(tf.keras.layers.Dense(units=40, activation=\"tanh\"))\n",
        "\n",
        "#Third Hidden layer\n",
        "#nn.add(tf.keras.layers.Dense(units=60, activation=\"tanh\"))\n",
        "\n",
        "\n",
        "# Output layer\n",
        "nn.add(tf.keras.layers.Dense(units=1, activation=\"sigmoid\"))\n",
        "\n",
        "# Check the structure of the model\n",
        "nn.summary()"
      ]
    },
    {
      "cell_type": "code",
      "execution_count": 121,
      "metadata": {
        "id": "MhUwiocbTTvv"
      },
      "outputs": [],
      "source": [
        "# Compile the model\n",
        "nn.compile(loss=\"binary_crossentropy\", optimizer=\"adam\", metrics=[\"accuracy\"])"
      ]
    },
    {
      "cell_type": "code",
      "execution_count": 124,
      "metadata": {
        "colab": {
          "base_uri": "https://localhost:8080/"
        },
        "id": "D10IxlGpTTvw",
        "outputId": "0c7a99ce-b94c-458f-c832-2455453ddd15"
      },
      "outputs": [
        {
          "output_type": "stream",
          "name": "stdout",
          "text": [
            "Epoch 1/100\n",
            "596/596 [==============================] - 3s 4ms/step - loss: 0.5251 - accuracy: 0.7520\n",
            "Epoch 2/100\n",
            "596/596 [==============================] - 1s 2ms/step - loss: 0.5252 - accuracy: 0.7515\n",
            "Epoch 3/100\n",
            "596/596 [==============================] - 1s 2ms/step - loss: 0.5250 - accuracy: 0.7509\n",
            "Epoch 4/100\n",
            "596/596 [==============================] - 1s 2ms/step - loss: 0.5253 - accuracy: 0.7516\n",
            "Epoch 5/100\n",
            "596/596 [==============================] - 1s 2ms/step - loss: 0.5250 - accuracy: 0.7516\n",
            "Epoch 6/100\n",
            "596/596 [==============================] - 2s 3ms/step - loss: 0.5253 - accuracy: 0.7514\n",
            "Epoch 7/100\n",
            "596/596 [==============================] - 2s 3ms/step - loss: 0.5252 - accuracy: 0.7515\n",
            "Epoch 8/100\n",
            "596/596 [==============================] - 1s 2ms/step - loss: 0.5250 - accuracy: 0.7518\n",
            "Epoch 9/100\n",
            "596/596 [==============================] - 1s 2ms/step - loss: 0.5251 - accuracy: 0.7516\n",
            "Epoch 10/100\n",
            "596/596 [==============================] - 1s 2ms/step - loss: 0.5250 - accuracy: 0.7518\n",
            "Epoch 11/100\n",
            "596/596 [==============================] - 1s 2ms/step - loss: 0.5251 - accuracy: 0.7505\n",
            "Epoch 12/100\n",
            "596/596 [==============================] - 1s 2ms/step - loss: 0.5252 - accuracy: 0.7513\n",
            "Epoch 13/100\n",
            "596/596 [==============================] - 1s 2ms/step - loss: 0.5254 - accuracy: 0.7515\n",
            "Epoch 14/100\n",
            "596/596 [==============================] - 1s 2ms/step - loss: 0.5255 - accuracy: 0.7511\n",
            "Epoch 15/100\n",
            "596/596 [==============================] - 1s 2ms/step - loss: 0.5254 - accuracy: 0.7520\n",
            "Epoch 16/100\n",
            "596/596 [==============================] - 2s 3ms/step - loss: 0.5251 - accuracy: 0.7518\n",
            "Epoch 17/100\n",
            "596/596 [==============================] - 2s 3ms/step - loss: 0.5253 - accuracy: 0.7515\n",
            "Epoch 18/100\n",
            "596/596 [==============================] - 1s 2ms/step - loss: 0.5257 - accuracy: 0.7516\n",
            "Epoch 19/100\n",
            "596/596 [==============================] - 1s 2ms/step - loss: 0.5253 - accuracy: 0.7516\n",
            "Epoch 20/100\n",
            "596/596 [==============================] - 1s 2ms/step - loss: 0.5252 - accuracy: 0.7515\n",
            "Epoch 21/100\n",
            "596/596 [==============================] - 1s 2ms/step - loss: 0.5256 - accuracy: 0.7521\n",
            "Epoch 22/100\n",
            "596/596 [==============================] - 1s 2ms/step - loss: 0.5252 - accuracy: 0.7511\n",
            "Epoch 23/100\n",
            "596/596 [==============================] - 1s 2ms/step - loss: 0.5251 - accuracy: 0.7520\n",
            "Epoch 24/100\n",
            "596/596 [==============================] - 1s 2ms/step - loss: 0.5250 - accuracy: 0.7518\n",
            "Epoch 25/100\n",
            "596/596 [==============================] - 1s 2ms/step - loss: 0.5252 - accuracy: 0.7518\n",
            "Epoch 26/100\n",
            "596/596 [==============================] - 2s 3ms/step - loss: 0.5252 - accuracy: 0.7515\n",
            "Epoch 27/100\n",
            "596/596 [==============================] - 2s 3ms/step - loss: 0.5253 - accuracy: 0.7519\n",
            "Epoch 28/100\n",
            "596/596 [==============================] - 1s 2ms/step - loss: 0.5251 - accuracy: 0.7506\n",
            "Epoch 29/100\n",
            "596/596 [==============================] - 1s 2ms/step - loss: 0.5250 - accuracy: 0.7514\n",
            "Epoch 30/100\n",
            "596/596 [==============================] - 1s 2ms/step - loss: 0.5249 - accuracy: 0.7511\n",
            "Epoch 31/100\n",
            "596/596 [==============================] - 1s 2ms/step - loss: 0.5253 - accuracy: 0.7509\n",
            "Epoch 32/100\n",
            "596/596 [==============================] - 1s 2ms/step - loss: 0.5251 - accuracy: 0.7519\n",
            "Epoch 33/100\n",
            "596/596 [==============================] - 1s 2ms/step - loss: 0.5250 - accuracy: 0.7510\n",
            "Epoch 34/100\n",
            "596/596 [==============================] - 1s 2ms/step - loss: 0.5252 - accuracy: 0.7516\n",
            "Epoch 35/100\n",
            "596/596 [==============================] - 1s 2ms/step - loss: 0.5252 - accuracy: 0.7521\n",
            "Epoch 36/100\n",
            "596/596 [==============================] - 2s 3ms/step - loss: 0.5253 - accuracy: 0.7519\n",
            "Epoch 37/100\n",
            "596/596 [==============================] - 2s 3ms/step - loss: 0.5249 - accuracy: 0.7513\n",
            "Epoch 38/100\n",
            "596/596 [==============================] - 1s 2ms/step - loss: 0.5250 - accuracy: 0.7515\n",
            "Epoch 39/100\n",
            "596/596 [==============================] - 1s 2ms/step - loss: 0.5247 - accuracy: 0.7508\n",
            "Epoch 40/100\n",
            "596/596 [==============================] - 1s 2ms/step - loss: 0.5250 - accuracy: 0.7516\n",
            "Epoch 41/100\n",
            "596/596 [==============================] - 1s 2ms/step - loss: 0.5250 - accuracy: 0.7513\n",
            "Epoch 42/100\n",
            "596/596 [==============================] - 1s 2ms/step - loss: 0.5249 - accuracy: 0.7517\n",
            "Epoch 43/100\n",
            "596/596 [==============================] - 1s 2ms/step - loss: 0.5247 - accuracy: 0.7524\n",
            "Epoch 44/100\n",
            "596/596 [==============================] - 1s 2ms/step - loss: 0.5250 - accuracy: 0.7522\n",
            "Epoch 45/100\n",
            "596/596 [==============================] - 1s 2ms/step - loss: 0.5255 - accuracy: 0.7519\n",
            "Epoch 46/100\n",
            "596/596 [==============================] - 2s 3ms/step - loss: 0.5252 - accuracy: 0.7512\n",
            "Epoch 47/100\n",
            "596/596 [==============================] - 1s 2ms/step - loss: 0.5250 - accuracy: 0.7514\n",
            "Epoch 48/100\n",
            "596/596 [==============================] - 1s 2ms/step - loss: 0.5250 - accuracy: 0.7522\n",
            "Epoch 49/100\n",
            "596/596 [==============================] - 1s 2ms/step - loss: 0.5252 - accuracy: 0.7516\n",
            "Epoch 50/100\n",
            "596/596 [==============================] - 1s 2ms/step - loss: 0.5254 - accuracy: 0.7514\n",
            "Epoch 51/100\n",
            "596/596 [==============================] - 1s 2ms/step - loss: 0.5250 - accuracy: 0.7515\n",
            "Epoch 52/100\n",
            "596/596 [==============================] - 1s 2ms/step - loss: 0.5250 - accuracy: 0.7522\n",
            "Epoch 53/100\n",
            "596/596 [==============================] - 1s 2ms/step - loss: 0.5249 - accuracy: 0.7516\n",
            "Epoch 54/100\n",
            "596/596 [==============================] - 1s 2ms/step - loss: 0.5250 - accuracy: 0.7502\n",
            "Epoch 55/100\n",
            "596/596 [==============================] - 1s 2ms/step - loss: 0.5249 - accuracy: 0.7515\n",
            "Epoch 56/100\n",
            "596/596 [==============================] - 2s 3ms/step - loss: 0.5250 - accuracy: 0.7517\n",
            "Epoch 57/100\n",
            "596/596 [==============================] - 2s 3ms/step - loss: 0.5251 - accuracy: 0.7509\n",
            "Epoch 58/100\n",
            "596/596 [==============================] - 1s 2ms/step - loss: 0.5251 - accuracy: 0.7509\n",
            "Epoch 59/100\n",
            "596/596 [==============================] - 1s 2ms/step - loss: 0.5251 - accuracy: 0.7518\n",
            "Epoch 60/100\n",
            "596/596 [==============================] - 1s 2ms/step - loss: 0.5250 - accuracy: 0.7511\n",
            "Epoch 61/100\n",
            "596/596 [==============================] - 1s 2ms/step - loss: 0.5251 - accuracy: 0.7514\n",
            "Epoch 62/100\n",
            "596/596 [==============================] - 1s 2ms/step - loss: 0.5251 - accuracy: 0.7514\n",
            "Epoch 63/100\n",
            "596/596 [==============================] - 1s 2ms/step - loss: 0.5249 - accuracy: 0.7520\n",
            "Epoch 64/100\n",
            "596/596 [==============================] - 1s 2ms/step - loss: 0.5251 - accuracy: 0.7517\n",
            "Epoch 65/100\n",
            "596/596 [==============================] - 1s 2ms/step - loss: 0.5247 - accuracy: 0.7516\n",
            "Epoch 66/100\n",
            "596/596 [==============================] - 2s 3ms/step - loss: 0.5252 - accuracy: 0.7505\n",
            "Epoch 67/100\n",
            "596/596 [==============================] - 2s 3ms/step - loss: 0.5248 - accuracy: 0.7513\n",
            "Epoch 68/100\n",
            "596/596 [==============================] - 1s 2ms/step - loss: 0.5250 - accuracy: 0.7514\n",
            "Epoch 69/100\n",
            "596/596 [==============================] - 1s 2ms/step - loss: 0.5249 - accuracy: 0.7501\n",
            "Epoch 70/100\n",
            "596/596 [==============================] - 1s 2ms/step - loss: 0.5253 - accuracy: 0.7515\n",
            "Epoch 71/100\n",
            "596/596 [==============================] - 1s 2ms/step - loss: 0.5249 - accuracy: 0.7526\n",
            "Epoch 72/100\n",
            "596/596 [==============================] - 1s 2ms/step - loss: 0.5250 - accuracy: 0.7509\n",
            "Epoch 73/100\n",
            "596/596 [==============================] - 1s 2ms/step - loss: 0.5250 - accuracy: 0.7517\n",
            "Epoch 74/100\n",
            "596/596 [==============================] - 1s 2ms/step - loss: 0.5250 - accuracy: 0.7517\n",
            "Epoch 75/100\n",
            "596/596 [==============================] - 1s 2ms/step - loss: 0.5254 - accuracy: 0.7514\n",
            "Epoch 76/100\n",
            "596/596 [==============================] - 2s 3ms/step - loss: 0.5250 - accuracy: 0.7512\n",
            "Epoch 77/100\n",
            "596/596 [==============================] - 2s 3ms/step - loss: 0.5255 - accuracy: 0.7506\n",
            "Epoch 78/100\n",
            "596/596 [==============================] - 1s 2ms/step - loss: 0.5250 - accuracy: 0.7515\n",
            "Epoch 79/100\n",
            "596/596 [==============================] - 1s 2ms/step - loss: 0.5250 - accuracy: 0.7514\n",
            "Epoch 80/100\n",
            "596/596 [==============================] - 1s 2ms/step - loss: 0.5249 - accuracy: 0.7515\n",
            "Epoch 81/100\n",
            "596/596 [==============================] - 1s 2ms/step - loss: 0.5251 - accuracy: 0.7513\n",
            "Epoch 82/100\n",
            "596/596 [==============================] - 1s 2ms/step - loss: 0.5249 - accuracy: 0.7521\n",
            "Epoch 83/100\n",
            "596/596 [==============================] - 1s 2ms/step - loss: 0.5249 - accuracy: 0.7510\n",
            "Epoch 84/100\n",
            "596/596 [==============================] - 1s 2ms/step - loss: 0.5250 - accuracy: 0.7518\n",
            "Epoch 85/100\n",
            "596/596 [==============================] - 1s 2ms/step - loss: 0.5256 - accuracy: 0.7517\n",
            "Epoch 86/100\n",
            "596/596 [==============================] - 1s 3ms/step - loss: 0.5252 - accuracy: 0.7513\n",
            "Epoch 87/100\n",
            "596/596 [==============================] - 2s 3ms/step - loss: 0.5251 - accuracy: 0.7521\n",
            "Epoch 88/100\n",
            "596/596 [==============================] - 1s 2ms/step - loss: 0.5251 - accuracy: 0.7509\n",
            "Epoch 89/100\n",
            "596/596 [==============================] - 1s 2ms/step - loss: 0.5255 - accuracy: 0.7516\n",
            "Epoch 90/100\n",
            "596/596 [==============================] - 1s 2ms/step - loss: 0.5255 - accuracy: 0.7516\n",
            "Epoch 91/100\n",
            "596/596 [==============================] - 1s 2ms/step - loss: 0.5253 - accuracy: 0.7511\n",
            "Epoch 92/100\n",
            "596/596 [==============================] - 1s 2ms/step - loss: 0.5261 - accuracy: 0.7520\n",
            "Epoch 93/100\n",
            "596/596 [==============================] - 1s 2ms/step - loss: 0.5254 - accuracy: 0.7505\n",
            "Epoch 94/100\n",
            "596/596 [==============================] - 1s 2ms/step - loss: 0.5253 - accuracy: 0.7513\n",
            "Epoch 95/100\n",
            "596/596 [==============================] - 1s 2ms/step - loss: 0.5249 - accuracy: 0.7521\n",
            "Epoch 96/100\n",
            "596/596 [==============================] - 2s 3ms/step - loss: 0.5252 - accuracy: 0.7513\n",
            "Epoch 97/100\n",
            "596/596 [==============================] - 1s 2ms/step - loss: 0.5252 - accuracy: 0.7516\n",
            "Epoch 98/100\n",
            "596/596 [==============================] - 1s 2ms/step - loss: 0.5255 - accuracy: 0.7511\n",
            "Epoch 99/100\n",
            "596/596 [==============================] - 1s 2ms/step - loss: 0.5252 - accuracy: 0.7513\n",
            "Epoch 100/100\n",
            "596/596 [==============================] - 1s 2ms/step - loss: 0.5249 - accuracy: 0.7513\n"
          ]
        }
      ],
      "source": [
        "# Train the model\n",
        "\n",
        "fit_model = nn.fit(X_train_scaled, y_train, epochs=100)\n"
      ]
    },
    {
      "cell_type": "code",
      "execution_count": 125,
      "metadata": {
        "id": "85eBP62xTTvx",
        "outputId": "430fa58f-ca67-4d97-83cd-17a5a58b8990",
        "colab": {
          "base_uri": "https://localhost:8080/"
        }
      },
      "outputs": [
        {
          "output_type": "stream",
          "name": "stdout",
          "text": [
            "199/199 - 0s - loss: 0.5355 - accuracy: 0.7511 - 264ms/epoch - 1ms/step\n",
            "Loss: 0.5354782938957214, Accuracy: 0.7511419057846069\n"
          ]
        }
      ],
      "source": [
        "# Evaluate the model using the test data\n",
        "model_loss, model_accuracy = nn.evaluate(X_test_scaled,y_test,verbose=2)\n",
        "print(f\"Loss: {model_loss}, Accuracy: {model_accuracy}\")"
      ]
    },
    {
      "cell_type": "code",
      "execution_count": 128,
      "metadata": {
        "id": "sCwZDVmqTTvy"
      },
      "outputs": [],
      "source": [
        "# Export our model to HDF5 file\n",
        "nn.save('AlphabetSoupCharity.h5')"
      ]
    }
  ],
  "metadata": {
    "kernelspec": {
      "display_name": "Python 3",
      "language": "python",
      "name": "python3"
    },
    "language_info": {
      "codemirror_mode": {
        "name": "ipython",
        "version": 3
      },
      "file_extension": ".py",
      "mimetype": "text/x-python",
      "name": "python",
      "nbconvert_exporter": "python",
      "pygments_lexer": "ipython3",
      "version": "3.-1.-1"
    },
    "vscode": {
      "interpreter": {
        "hash": "31f2aee4e71d21fbe5cf8b01ff0e069b9275f58929596ceb00d14d90e3e16cd6"
      }
    },
    "colab": {
      "provenance": []
    }
  },
  "nbformat": 4,
  "nbformat_minor": 0
}